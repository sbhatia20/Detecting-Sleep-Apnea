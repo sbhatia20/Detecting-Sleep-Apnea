{
  "cells": [
    {
      "cell_type": "code",
      "execution_count": null,
      "metadata": {
        "colab": {
          "base_uri": "https://localhost:8080/"
        },
        "id": "lMnhlLnI8tz_",
        "outputId": "657c4922-859c-4395-a1af-fa6243f967a9"
      },
      "outputs": [
        {
          "name": "stdout",
          "output_type": "stream",
          "text": [
            "Looking in indexes: https://pypi.org/simple, https://us-python.pkg.dev/colab-wheels/public/simple/\n",
            "Requirement already satisfied: wfdb in /usr/local/lib/python3.10/dist-packages (4.1.1)\n",
            "Requirement already satisfied: SoundFile>=0.10.0 in /usr/local/lib/python3.10/dist-packages (from wfdb) (0.12.1)\n",
            "Requirement already satisfied: matplotlib>=3.2.2 in /usr/local/lib/python3.10/dist-packages (from wfdb) (3.7.1)\n",
            "Requirement already satisfied: numpy>=1.10.1 in /usr/local/lib/python3.10/dist-packages (from wfdb) (1.22.4)\n",
            "Requirement already satisfied: pandas>=1.3.0 in /usr/local/lib/python3.10/dist-packages (from wfdb) (1.5.3)\n",
            "Requirement already satisfied: requests>=2.8.1 in /usr/local/lib/python3.10/dist-packages (from wfdb) (2.27.1)\n",
            "Requirement already satisfied: scipy>=1.0.0 in /usr/local/lib/python3.10/dist-packages (from wfdb) (1.10.1)\n",
            "Requirement already satisfied: contourpy>=1.0.1 in /usr/local/lib/python3.10/dist-packages (from matplotlib>=3.2.2->wfdb) (1.0.7)\n",
            "Requirement already satisfied: cycler>=0.10 in /usr/local/lib/python3.10/dist-packages (from matplotlib>=3.2.2->wfdb) (0.11.0)\n",
            "Requirement already satisfied: fonttools>=4.22.0 in /usr/local/lib/python3.10/dist-packages (from matplotlib>=3.2.2->wfdb) (4.39.3)\n",
            "Requirement already satisfied: kiwisolver>=1.0.1 in /usr/local/lib/python3.10/dist-packages (from matplotlib>=3.2.2->wfdb) (1.4.4)\n",
            "Requirement already satisfied: packaging>=20.0 in /usr/local/lib/python3.10/dist-packages (from matplotlib>=3.2.2->wfdb) (23.1)\n",
            "Requirement already satisfied: pillow>=6.2.0 in /usr/local/lib/python3.10/dist-packages (from matplotlib>=3.2.2->wfdb) (8.4.0)\n",
            "Requirement already satisfied: pyparsing>=2.3.1 in /usr/local/lib/python3.10/dist-packages (from matplotlib>=3.2.2->wfdb) (3.0.9)\n",
            "Requirement already satisfied: python-dateutil>=2.7 in /usr/local/lib/python3.10/dist-packages (from matplotlib>=3.2.2->wfdb) (2.8.2)\n",
            "Requirement already satisfied: pytz>=2020.1 in /usr/local/lib/python3.10/dist-packages (from pandas>=1.3.0->wfdb) (2022.7.1)\n",
            "Requirement already satisfied: urllib3<1.27,>=1.21.1 in /usr/local/lib/python3.10/dist-packages (from requests>=2.8.1->wfdb) (1.26.15)\n",
            "Requirement already satisfied: certifi>=2017.4.17 in /usr/local/lib/python3.10/dist-packages (from requests>=2.8.1->wfdb) (2022.12.7)\n",
            "Requirement already satisfied: charset-normalizer~=2.0.0 in /usr/local/lib/python3.10/dist-packages (from requests>=2.8.1->wfdb) (2.0.12)\n",
            "Requirement already satisfied: idna<4,>=2.5 in /usr/local/lib/python3.10/dist-packages (from requests>=2.8.1->wfdb) (3.4)\n",
            "Requirement already satisfied: cffi>=1.0 in /usr/local/lib/python3.10/dist-packages (from SoundFile>=0.10.0->wfdb) (1.15.1)\n",
            "Requirement already satisfied: pycparser in /usr/local/lib/python3.10/dist-packages (from cffi>=1.0->SoundFile>=0.10.0->wfdb) (2.21)\n",
            "Requirement already satisfied: six>=1.5 in /usr/local/lib/python3.10/dist-packages (from python-dateutil>=2.7->matplotlib>=3.2.2->wfdb) (1.16.0)\n"
          ]
        }
      ],
      "source": [
        "!pip install wfdb"
      ]
    },
    {
      "cell_type": "code",
      "execution_count": null,
      "metadata": {
        "colab": {
          "base_uri": "https://localhost:8080/"
        },
        "id": "KgrXnq6SBWLd",
        "outputId": "e69eeb32-37ae-4c5c-eac9-b8ccb3ca30fc"
      },
      "outputs": [
        {
          "name": "stdout",
          "output_type": "stream",
          "text": [
            "Drive already mounted at /content/drive; to attempt to forcibly remount, call drive.mount(\"/content/drive\", force_remount=True).\n"
          ]
        }
      ],
      "source": [
        "from google.colab import drive\n",
        "drive.mount('/content/drive')"
      ]
    },
    {
      "cell_type": "code",
      "execution_count": null,
      "metadata": {
        "colab": {
          "base_uri": "https://localhost:8080/"
        },
        "id": "yvs57ZMt8wVY",
        "outputId": "0196405a-ddce-4291-a0fe-8e96b510e507"
      },
      "outputs": [
        {
          "name": "stdout",
          "output_type": "stream",
          "text": [
            "Looking in indexes: https://pypi.org/simple, https://us-python.pkg.dev/colab-wheels/public/simple/\n",
            "Requirement already satisfied: biosppy in /usr/local/lib/python3.10/dist-packages (1.0.0)\n",
            "Requirement already satisfied: bidict in /usr/local/lib/python3.10/dist-packages (from biosppy) (0.22.1)\n",
            "Requirement already satisfied: h5py in /usr/local/lib/python3.10/dist-packages (from biosppy) (3.8.0)\n",
            "Requirement already satisfied: matplotlib in /usr/local/lib/python3.10/dist-packages (from biosppy) (3.7.1)\n",
            "Requirement already satisfied: numpy in /usr/local/lib/python3.10/dist-packages (from biosppy) (1.22.4)\n",
            "Requirement already satisfied: scikit-learn in /usr/local/lib/python3.10/dist-packages (from biosppy) (1.2.2)\n",
            "Requirement already satisfied: scipy in /usr/local/lib/python3.10/dist-packages (from biosppy) (1.10.1)\n",
            "Requirement already satisfied: shortuuid in /usr/local/lib/python3.10/dist-packages (from biosppy) (1.0.11)\n",
            "Requirement already satisfied: six in /usr/local/lib/python3.10/dist-packages (from biosppy) (1.16.0)\n",
            "Requirement already satisfied: joblib in /usr/local/lib/python3.10/dist-packages (from biosppy) (1.2.0)\n",
            "Requirement already satisfied: opencv-python in /usr/local/lib/python3.10/dist-packages (from biosppy) (4.7.0.72)\n",
            "Requirement already satisfied: contourpy>=1.0.1 in /usr/local/lib/python3.10/dist-packages (from matplotlib->biosppy) (1.0.7)\n",
            "Requirement already satisfied: cycler>=0.10 in /usr/local/lib/python3.10/dist-packages (from matplotlib->biosppy) (0.11.0)\n",
            "Requirement already satisfied: fonttools>=4.22.0 in /usr/local/lib/python3.10/dist-packages (from matplotlib->biosppy) (4.39.3)\n",
            "Requirement already satisfied: kiwisolver>=1.0.1 in /usr/local/lib/python3.10/dist-packages (from matplotlib->biosppy) (1.4.4)\n",
            "Requirement already satisfied: packaging>=20.0 in /usr/local/lib/python3.10/dist-packages (from matplotlib->biosppy) (23.1)\n",
            "Requirement already satisfied: pillow>=6.2.0 in /usr/local/lib/python3.10/dist-packages (from matplotlib->biosppy) (8.4.0)\n",
            "Requirement already satisfied: pyparsing>=2.3.1 in /usr/local/lib/python3.10/dist-packages (from matplotlib->biosppy) (3.0.9)\n",
            "Requirement already satisfied: python-dateutil>=2.7 in /usr/local/lib/python3.10/dist-packages (from matplotlib->biosppy) (2.8.2)\n",
            "Requirement already satisfied: threadpoolctl>=2.0.0 in /usr/local/lib/python3.10/dist-packages (from scikit-learn->biosppy) (3.1.0)\n"
          ]
        }
      ],
      "source": [
        "!pip install biosppy"
      ]
    },
    {
      "cell_type": "code",
      "execution_count": null,
      "metadata": {
        "colab": {
          "base_uri": "https://localhost:8080/"
        },
        "id": "4Y1vIITluXdE",
        "outputId": "a98be946-c450-43a3-9a77-e43345faa009"
      },
      "outputs": [
        {
          "name": "stdout",
          "output_type": "stream",
          "text": [
            "Looking in indexes: https://pypi.org/simple, https://us-python.pkg.dev/colab-wheels/public/simple/\n",
            "Requirement already satisfied: cpu_count in /usr/local/lib/python3.10/dist-packages (1.0.0)\n",
            "Requirement already satisfied: importlib-metadata in /usr/local/lib/python3.10/dist-packages (from cpu_count) (6.6.0)\n",
            "Requirement already satisfied: zipp>=0.5 in /usr/local/lib/python3.10/dist-packages (from importlib-metadata->cpu_count) (3.15.0)\n"
          ]
        }
      ],
      "source": [
        "pip install cpu_count"
      ]
    },
    {
      "cell_type": "code",
      "execution_count": null,
      "metadata": {
        "id": "otLeeHUV7WyK"
      },
      "outputs": [],
      "source": [
        "import pickle\n",
        "import sys\n",
        "from concurrent.futures import ProcessPoolExecutor, as_completed\n",
        "\n",
        "import biosppy.signals.tools as st\n",
        "import numpy as np\n",
        "import os\n",
        "import wfdb\n",
        "from biosppy.signals.ecg import correct_rpeaks, hamilton_segmenter\n",
        "from scipy.signal import medfilt\n",
        "#from multiprocessing.dummy import Pool, cpu_count\n",
        "from cpu_count import cpu_count\n",
        "#from sklearn.utils import cpu_count\n",
        "from tqdm import tqdm"
      ]
    },
    {
      "cell_type": "code",
      "execution_count": null,
      "metadata": {
        "id": "_tgWzr_a7vVX"
      },
      "outputs": [],
      "source": [
        "base_dir = \"/content/drive/MyDrive/dataset/osa_data\""
      ]
    },
    {
      "cell_type": "code",
      "execution_count": null,
      "metadata": {
        "id": "41YExj2g7vd6"
      },
      "outputs": [],
      "source": [
        "fs = 100\n",
        "sample = fs * 60  # 1 min's sample points\n",
        "\n",
        "before = 2  # forward interval (min)\n",
        "after = 2  # backward interval (min)\n",
        "hr_min = 20\n",
        "hr_max = 300\n",
        "\n",
        "num_worker = 35 if cpu_count() > 35 else cpu_count() - 1  # Setting according to the number of CPU cores\n"
      ]
    },
    {
      "cell_type": "code",
      "execution_count": null,
      "metadata": {
        "id": "p4tlLs3L7viS"
      },
      "outputs": [],
      "source": [
        "def worker(name, labels):\n",
        "    X = []\n",
        "    y = []\n",
        "    groups = []\n",
        "    signals = wfdb.rdrecord(os.path.join(base_dir, name), channels=[0]).p_signal[:, 0]\n",
        "    for j in tqdm(range(len(labels)), desc=name, file=sys.stdout):\n",
        "        if j < before or \\\n",
        "                (j + 1 + after) > len(signals) / float(sample):\n",
        "            continue\n",
        "        signal = signals[int((j - before) * sample):int((j + 1 + after) * sample)]\n",
        "        signal, _, _ = st.filter_signal(signal, ftype='FIR', band='bandpass', order=int(0.3 * fs),\n",
        "                                        frequency=[3, 45], sampling_rate=fs)\n",
        "        # Find R peaks\n",
        "        rpeaks, = hamilton_segmenter(signal, sampling_rate=fs)\n",
        "        rpeaks, = correct_rpeaks(signal, rpeaks=rpeaks, sampling_rate=fs, tol=0.1)\n",
        "        if len(rpeaks) / (1 + after + before) < 40 or \\\n",
        "                len(rpeaks) / (1 + after + before) > 200:  # Remove abnormal R peaks signal\n",
        "            continue\n",
        "        # Extract RRI, Ampl signal\n",
        "        rri_tm, rri_signal = rpeaks[1:] / float(fs), np.diff(rpeaks) / float(fs)\n",
        "        rri_signal = medfilt(rri_signal, kernel_size=3)\n",
        "        ampl_tm, ampl_siganl = rpeaks / float(fs), signal[rpeaks]\n",
        "        hr = 60 / rri_signal\n",
        "        # Remove physiologically impossible HR signal\n",
        "        if np.all(np.logical_and(hr >= hr_min, hr <= hr_max)):\n",
        "            # Save extracted signal\n",
        "            X.append([(rri_tm, rri_signal), (ampl_tm, ampl_siganl)])\n",
        "            y.append(0. if labels[j] == 'N' else 1.)\n",
        "            groups.append(name)\n",
        "    return X, y, groups"
      ]
    },
    {
      "cell_type": "code",
      "execution_count": null,
      "metadata": {
        "colab": {
          "background_save": true,
          "base_uri": "https://localhost:8080/"
        },
        "id": "U6lBd_Mx8hbP",
        "outputId": "1e101b82-2dd9-4904-dba0-8c1e894adfbb"
      },
      "outputs": [
        {
          "name": "stdout",
          "output_type": "stream",
          "text": [
            "Training...\n",
            "a01: 100%|██████████| 489/489 [02:08<00:00,  3.79it/s]\n",
            "a02: 100%|██████████| 528/528 [02:21<00:00,  3.72it/s]\n",
            "a03: 100%|██████████| 519/519 [02:04<00:00,  4.18it/s]\n",
            "a04: 100%|██████████| 492/492 [01:55<00:00,  4.27it/s]\n",
            "a05: 100%|██████████| 454/454 [01:42<00:00,  4.44it/s]\n",
            "a06: 100%|██████████| 510/510 [02:12<00:00,  3.86it/s]\n",
            "a07: 100%|██████████| 511/511 [02:02<00:00,  4.17it/s]\n",
            "a08: 100%|██████████| 501/501 [02:00<00:00,  4.14it/s]\n",
            "a09: 100%|██████████| 495/495 [01:59<00:00,  4.15it/s]\n",
            "a10: 100%|██████████| 517/517 [02:01<00:00,  4.24it/s]\n",
            "a11: 100%|██████████| 466/466 [01:58<00:00,  3.92it/s]\n",
            "a12: 100%|██████████| 577/577 [02:23<00:00,  4.01it/s]\n",
            "a13: 100%|██████████| 495/495 [02:00<00:00,  4.12it/s]\n",
            "a14: 100%|██████████| 509/509 [02:00<00:00,  4.23it/s]\n",
            "a15: 100%|██████████| 510/510 [02:10<00:00,  3.91it/s]\n",
            "a16: 100%|██████████| 482/482 [01:54<00:00,  4.22it/s]\n",
            "a17: 100%|██████████| 485/485 [02:19<00:00,  3.47it/s]\n",
            "a18: 100%|██████████| 489/489 [01:53<00:00,  4.29it/s]\n",
            "a19: 100%|██████████| 502/502 [01:50<00:00,  4.54it/s]\n",
            "a20: 100%|██████████| 510/510 [02:05<00:00,  4.08it/s]\n",
            "b01: 100%|██████████| 487/487 [02:01<00:00,  3.99it/s]\n",
            "b02: 100%|██████████| 517/517 [02:00<00:00,  4.28it/s]\n",
            "b03: 100%|██████████| 441/441 [01:47<00:00,  4.11it/s]\n",
            "b04: 100%|██████████| 429/429 [01:39<00:00,  4.31it/s]\n",
            "b05: 100%|██████████| 433/433 [01:43<00:00,  4.20it/s]\n",
            "c01: 100%|██████████| 484/484 [01:53<00:00,  4.28it/s]\n",
            "c02: 100%|██████████| 502/502 [01:55<00:00,  4.35it/s]\n",
            "c03: 100%|██████████| 454/454 [01:46<00:00,  4.26it/s]\n",
            "c04: 100%|██████████| 482/482 [01:51<00:00,  4.33it/s]\n",
            "c05: 100%|██████████| 466/466 [01:54<00:00,  4.08it/s]\n",
            "c06: 100%|██████████| 468/468 [01:54<00:00,  4.09it/s]\n",
            "c07: 100%|██████████| 429/429 [01:43<00:00,  4.13it/s]\n",
            "c08: 100%|██████████| 513/513 [02:01<00:00,  4.21it/s]\n",
            "c09: 100%|██████████| 468/468 [01:47<00:00,  4.35it/s]\n",
            "c10: 100%|██████████| 431/431 [01:37<00:00,  4.43it/s]\n",
            "\n"
          ]
        }
      ],
      "source": [
        "if __name__ == \"__main__\":\n",
        "    apnea_ecg = {}\n",
        "\n",
        "    names = [\n",
        "        \"a01\", \"a02\", \"a03\", \"a04\", \"a05\", \"a06\", \"a07\", \"a08\", \"a09\", \"a10\",\n",
        "        \"a11\", \"a12\", \"a13\", \"a14\", \"a15\", \"a16\", \"a17\", \"a18\", \"a19\", \"a20\",\n",
        "        \"b01\", \"b02\", \"b03\", \"b04\", \"b05\",\n",
        "        \"c01\", \"c02\", \"c03\", \"c04\", \"c05\", \"c06\", \"c07\", \"c08\", \"c09\", \"c10\"\n",
        "    ]\n",
        "\n",
        "    o_train = []\n",
        "    y_train = []\n",
        "    groups_train = []\n",
        "    print('Training...')\n",
        "    with ProcessPoolExecutor(max_workers=num_worker) as executor:\n",
        "        task_list = []\n",
        "        for i in range(len(names)):\n",
        "            labels = wfdb.rdann(os.path.join(base_dir, names[i]), extension=\"apn\").symbol\n",
        "            task_list.append(executor.submit(worker, names[i], labels))\n",
        "\n",
        "        for task in as_completed(task_list):\n",
        "            X, y,groups  = task.result()\n",
        "            o_train.extend(X)\n",
        "            y_train.extend(y)\n",
        "            groups_train.extend(groups)\n",
        "\n",
        "    print()"
      ]
    },
    {
      "cell_type": "code",
      "execution_count": null,
      "metadata": {
        "colab": {
          "background_save": true
        },
        "id": "2Y-XwhM38hjM"
      },
      "outputs": [],
      "source": [
        "    answers = {}\n",
        "    with open(os.path.join(base_dir, \"/content/drive/MyDrive/dataset/event-2-answers.txt\"), \"r\") as f:\n",
        "        for answer in f.read().split(\"\\n\\n\"):\n",
        "            answers[answer[:3]] = list(\"\".join(answer.split()[2::2]))\n",
        "\n",
        "    names = [\n",
        "        \"x01\", \"x02\", \"x03\", \"x04\", \"x05\", \"x06\", \"x07\", \"x08\", \"x09\", \"x10\",\n",
        "        \"x11\", \"x12\", \"x13\", \"x14\", \"x15\", \"x16\", \"x17\", \"x18\", \"x19\", \"x20\",\n",
        "        \"x21\", \"x22\", \"x23\", \"x24\", \"x25\", \"x26\", \"x27\", \"x28\", \"x29\", \"x30\",\n",
        "        \"x31\", \"x32\", \"x33\", \"x34\", \"x35\"\n",
        "    ]\n"
      ]
    },
    {
      "cell_type": "code",
      "execution_count": null,
      "metadata": {
        "id": "mUmQd0Pf8hnC"
      },
      "outputs": [],
      "source": [
        "    o_test = []\n",
        "    y_test = []\n",
        "    groups_test = []\n",
        "    print(\"Testing...\")\n",
        "    with ProcessPoolExecutor(max_workers=num_worker) as executor:\n",
        "        task_list = []\n",
        "        for i in range(len(names)):\n",
        "            labels = answers[names[i]]\n",
        "            task_list.append(executor.submit(worker, names[i], labels))\n",
        "\n",
        "        for task in as_completed(task_list):\n",
        "            X, y, groups = task.result()\n",
        "            o_test.extend(X)\n",
        "            y_test.extend(y)\n",
        "            groups_test.extend(groups)\n"
      ]
    },
    {
      "cell_type": "code",
      "execution_count": null,
      "metadata": {
        "id": "9OWv4EZg8hqZ"
      },
      "outputs": [],
      "source": [
        "    apnea_ecg = dict(o_train=o_train, y_train=y_train, groups_train=groups_train, o_test=o_test, y_test=y_test,\n",
        "                     groups_test=groups_test)\n",
        "    with open(os.path.join(base_dir, \"apnea-ecg.pkl\"), \"wb\") as f:\n",
        "        pickle.dump(apnea_ecg, f, protocol=2)\n",
        "\n",
        "    print(\"\\done!\")"
      ]
    }
  ],
  "metadata": {
    "colab": {
      "provenance": []
    },
    "gpuClass": "standard",
    "kernelspec": {
      "display_name": "Python 3",
      "name": "python3"
    },
    "language_info": {
      "name": "python"
    }
  },
  "nbformat": 4,
  "nbformat_minor": 0
}