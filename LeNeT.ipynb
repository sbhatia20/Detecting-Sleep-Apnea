{
  "cells": [
    {
      "cell_type": "code",
      "execution_count": null,
      "metadata": {
        "id": "V060avuG1G3c"
      },
      "outputs": [],
      "source": [
        " import pickle\n",
        "import keras\n",
        "import matplotlib.pyplot as plt\n",
        "import numpy as np\n",
        "import os\n",
        "#from keras.utils import multi_gpu_model\n",
        "from keras.callbacks import LearningRateScheduler\n",
        "from keras.layers import Conv1D, Dense, Dropout, Flatten, MaxPooling1D\n",
        "from tensorflow.keras import Input, models,Model\n",
        "from keras.regularizers import l2\n",
        "from scipy.interpolate import splev, splrep\n",
        "import pandas as pd"
      ]
    },
    {
      "cell_type": "code",
      "execution_count": null,
      "metadata": {
        "id": "byurH_bt1L1J"
      },
      "outputs": [],
      "source": [
        "base_dir = \"/content/drive/MyDrive/dataset/osa_data\""
      ]
    },
    {
      "cell_type": "code",
      "execution_count": null,
      "metadata": {
        "id": "BQoDtDh21NHZ"
      },
      "outputs": [],
      "source": [
        "ir = 3 # interpolate interval\n",
        "before = 2\n",
        "after = 2\n",
        "\n",
        "# normalize\n",
        "scaler = lambda arr: (arr - np.min(arr)) / (np.max(arr) - np.min(arr))"
      ]
    },
    {
      "cell_type": "code",
      "execution_count": null,
      "metadata": {
        "colab": {
          "base_uri": "https://localhost:8080/"
        },
        "id": "nceAeL_j2tPz",
        "outputId": "693f9a59-77f1-478e-b34b-dedd7929b07e"
      },
      "outputs": [
        {
          "output_type": "stream",
          "name": "stdout",
          "text": [
            "Mounted at /content/drive\n"
          ]
        }
      ],
      "source": [
        "from google.colab import drive\n",
        "drive.mount('/content/drive')"
      ]
    },
    {
      "cell_type": "code",
      "execution_count": null,
      "metadata": {
        "id": "W5XJQwvZ1ucs"
      },
      "outputs": [],
      "source": [
        "def load_data():\n",
        "    tm = np.arange(0, (before + 1 + after) * 60, step=1 / float(ir))\n",
        "\n",
        "    with open(os.path.join(base_dir, \"apnea-ecg.pkl\"), 'rb') as f: # read preprocessing result\n",
        "        apnea_ecg = pickle.load(f)\n",
        "\n",
        "    x_train = []\n",
        "    o_train, y_train = apnea_ecg[\"o_train\"], apnea_ecg[\"y_train\"]\n",
        "    groups_train = apnea_ecg[\"groups_train\"]\n",
        "    for i in range(len(o_train)):\n",
        "        (rri_tm, rri_signal), (ampl_tm, ampl_siganl) = o_train[i]\n",
        "\t\t# Curve interpolation\n",
        "        rri_interp_signal = splev(tm, splrep(rri_tm, scaler(rri_signal), k=3), ext=1)\n",
        "        ampl_interp_signal = splev(tm, splrep(ampl_tm, scaler(ampl_siganl), k=3), ext=1)\n",
        "        x_train.append([rri_interp_signal, ampl_interp_signal])\n",
        "    x_train = np.array(x_train, dtype=\"float32\").transpose((0, 2, 1)) # convert to numpy format\n",
        "    y_train = np.array(y_train, dtype=\"float32\")\n",
        "\n",
        "    x_test = []\n",
        "    o_test, y_test = apnea_ecg[\"o_test\"], apnea_ecg[\"y_test\"]\n",
        "    groups_test = apnea_ecg[\"groups_test\"]\n",
        "    for i in range(len(o_test)):\n",
        "        (rri_tm, rri_signal), (ampl_tm, ampl_siganl) = o_test[i]\n",
        "\t\t# Curve interpolation\n",
        "        rri_interp_signal = splev(tm, splrep(rri_tm, scaler(rri_signal), k=3), ext=1)\n",
        "        ampl_interp_signal = splev(tm, splrep(ampl_tm, scaler(ampl_siganl), k=3), ext=1)\n",
        "        x_test.append([rri_interp_signal, ampl_interp_signal])\n",
        "    x_test = np.array(x_test, dtype=\"float32\").transpose((0, 2, 1))\n",
        "    y_test = np.array(y_test, dtype=\"float32\")\n",
        "\n",
        "    return x_train, y_train, groups_train, x_test, y_test, groups_test"
      ]
    },
    {
      "cell_type": "markdown",
      "metadata": {
        "id": "t-ZLgx8822RI"
      },
      "source": [
        "Creation of LeNet CNN model"
      ]
    },
    {
      "cell_type": "code",
      "execution_count": null,
      "metadata": {
        "id": "kH7pcAGy1uia"
      },
      "outputs": [],
      "source": [
        "def create_model(input_shape, weight=1e-3):\n",
        "    inputs = Input(shape=input_shape)\n",
        "\n",
        "\t# Conv1\n",
        "    x = Conv1D(32, kernel_size=5, strides=2, padding=\"valid\", activation=\"relu\", kernel_initializer=\"he_normal\",\n",
        "               kernel_regularizer=l2(weight), bias_regularizer=l2(weight))(inputs)\n",
        "    x = MaxPooling1D(pool_size=3)(x)\n",
        "\n",
        "\t# Conv3\n",
        "    x = Conv1D(64, kernel_size=5, strides=2, padding=\"valid\", activation=\"relu\", kernel_initializer=\"he_normal\",\n",
        "               kernel_regularizer=l2(1e-3), bias_regularizer=l2(weight))(x)\n",
        "    x = MaxPooling1D(pool_size=3)(x)\n",
        "\n",
        "    x = Dropout(0.8)(x) # Avoid overfitting\n",
        "\n",
        "\t# FC6\n",
        "    x = Flatten()(x)\n",
        "    x = Dense(32, activation=\"relu\")(x)\n",
        "    outputs = Dense(2, activation=\"softmax\")(x)\n",
        "\n",
        "    model = Model(inputs=inputs, outputs=outputs)\n",
        "    return model\n"
      ]
    },
    {
      "cell_type": "code",
      "execution_count": null,
      "metadata": {
        "id": "vprYfTuS1umb"
      },
      "outputs": [],
      "source": [
        "def lr_schedule(epoch, lr):\n",
        "    if epoch > 70 and \\\n",
        "            (epoch - 1) % 10 == 0:\n",
        "        lr *= 0.1\n",
        "    print(\"Learning rate: \", lr)\n",
        "    return lr"
      ]
    },
    {
      "cell_type": "code",
      "execution_count": null,
      "metadata": {
        "id": "Hp7bv6qG1uoR"
      },
      "outputs": [],
      "source": [
        "def plot(history):\n",
        "\t#Plot performance curve\"\"\"\n",
        "    fig, axes = plt.subplots(1, 2, figsize=(10, 4))\n",
        "    import matplotlib.pyplot as plt\n",
        "\n"
      ]
    },
    {
      "cell_type": "code",
      "execution_count": null,
      "metadata": {
        "colab": {
          "base_uri": "https://localhost:8080/"
        },
        "id": "qAodBHny1urD",
        "outputId": "bbaff364-cdec-4a1b-be5d-b7f94dc52141"
      },
      "outputs": [
        {
          "output_type": "stream",
          "name": "stdout",
          "text": [
            "train num: 16709\n",
            "test num: 16945\n",
            "Model: \"model\"\n",
            "_________________________________________________________________\n",
            " Layer (type)                Output Shape              Param #   \n",
            "=================================================================\n",
            " input_1 (InputLayer)        [(None, 900, 2)]          0         \n",
            "                                                                 \n",
            " conv1d (Conv1D)             (None, 448, 32)           352       \n",
            "                                                                 \n",
            " max_pooling1d (MaxPooling1D  (None, 149, 32)          0         \n",
            " )                                                               \n",
            "                                                                 \n",
            " conv1d_1 (Conv1D)           (None, 73, 64)            10304     \n",
            "                                                                 \n",
            " max_pooling1d_1 (MaxPooling  (None, 24, 64)           0         \n",
            " 1D)                                                             \n",
            "                                                                 \n",
            " dropout (Dropout)           (None, 24, 64)            0         \n",
            "                                                                 \n",
            " flatten (Flatten)           (None, 1536)              0         \n",
            "                                                                 \n",
            " dense (Dense)               (None, 32)                49184     \n",
            "                                                                 \n",
            " dense_1 (Dense)             (None, 2)                 66        \n",
            "                                                                 \n",
            "=================================================================\n",
            "Total params: 59,906\n",
            "Trainable params: 59,906\n",
            "Non-trainable params: 0\n",
            "_________________________________________________________________\n"
          ]
        }
      ],
      "source": [
        "if __name__ == \"__main__\":\n",
        "    x_train, y_train, groups_train, x_test, y_test, groups_test = load_data()\n",
        "\n",
        "    y_train = keras.utils.to_categorical(y_train, num_classes=2) # Convert to two categories\n",
        "    y_test = keras.utils.to_categorical(y_test, num_classes=2)\n",
        "\n",
        "    print(\"train num:\", len(y_train))\n",
        "    print(\"test num:\", len(y_test))\n",
        "\n",
        "    model = create_model(input_shape=x_train.shape[1:])\n",
        "    model.summary()"
      ]
    },
    {
      "cell_type": "code",
      "execution_count": null,
      "metadata": {
        "id": "Uri95MTY16gr",
        "colab": {
          "base_uri": "https://localhost:8080/"
        },
        "outputId": "4bc300c5-c5c1-49b9-f14c-4e193bdca03d"
      },
      "outputs": [
        {
          "output_type": "stream",
          "name": "stdout",
          "text": [
            "Learning rate:  0.0010000000474974513\n",
            "Epoch 1/100\n",
            "131/131 [==============================] - 10s 67ms/step - loss: 0.8251 - accuracy: 0.6161 - val_loss: 0.6440 - val_accuracy: 0.7216 - lr: 0.0010\n",
            "Learning rate:  0.0010000000474974513\n",
            "Epoch 2/100\n",
            "131/131 [==============================] - 9s 68ms/step - loss: 0.5977 - accuracy: 0.7536 - val_loss: 0.5238 - val_accuracy: 0.7818 - lr: 0.0010\n",
            "Learning rate:  0.0010000000474974513\n",
            "Epoch 3/100\n",
            "131/131 [==============================] - 10s 76ms/step - loss: 0.5246 - accuracy: 0.7900 - val_loss: 0.4910 - val_accuracy: 0.8171 - lr: 0.0010\n",
            "Learning rate:  0.0010000000474974513\n",
            "Epoch 4/100\n",
            "131/131 [==============================] - 9s 66ms/step - loss: 0.4918 - accuracy: 0.8091 - val_loss: 0.5178 - val_accuracy: 0.7675 - lr: 0.0010\n",
            "Learning rate:  0.0010000000474974513\n",
            "Epoch 5/100\n",
            "131/131 [==============================] - 8s 58ms/step - loss: 0.4725 - accuracy: 0.8185 - val_loss: 0.4505 - val_accuracy: 0.8273 - lr: 0.0010\n",
            "Learning rate:  0.0010000000474974513\n",
            "Epoch 6/100\n",
            "131/131 [==============================] - 10s 75ms/step - loss: 0.4591 - accuracy: 0.8246 - val_loss: 0.4506 - val_accuracy: 0.8277 - lr: 0.0010\n",
            "Learning rate:  0.0010000000474974513\n",
            "Epoch 7/100\n",
            "131/131 [==============================] - 8s 65ms/step - loss: 0.4481 - accuracy: 0.8296 - val_loss: 0.4562 - val_accuracy: 0.8151 - lr: 0.0010\n",
            "Learning rate:  0.0010000000474974513\n",
            "Epoch 8/100\n",
            "131/131 [==============================] - 8s 59ms/step - loss: 0.4320 - accuracy: 0.8385 - val_loss: 0.4673 - val_accuracy: 0.8198 - lr: 0.0010\n",
            "Learning rate:  0.0010000000474974513\n",
            "Epoch 9/100\n",
            "131/131 [==============================] - 9s 68ms/step - loss: 0.4304 - accuracy: 0.8397 - val_loss: 0.4290 - val_accuracy: 0.8390 - lr: 0.0010\n",
            "Learning rate:  0.0010000000474974513\n",
            "Epoch 10/100\n",
            "131/131 [==============================] - 8s 65ms/step - loss: 0.4205 - accuracy: 0.8427 - val_loss: 0.4260 - val_accuracy: 0.8377 - lr: 0.0010\n",
            "Learning rate:  0.0010000000474974513\n",
            "Epoch 11/100\n",
            "131/131 [==============================] - 9s 70ms/step - loss: 0.4119 - accuracy: 0.8488 - val_loss: 0.4146 - val_accuracy: 0.8438 - lr: 0.0010\n",
            "Learning rate:  0.0010000000474974513\n",
            "Epoch 12/100\n",
            "131/131 [==============================] - 9s 68ms/step - loss: 0.4078 - accuracy: 0.8508 - val_loss: 0.4196 - val_accuracy: 0.8482 - lr: 0.0010\n",
            "Learning rate:  0.0010000000474974513\n",
            "Epoch 13/100\n",
            "131/131 [==============================] - 9s 66ms/step - loss: 0.4013 - accuracy: 0.8555 - val_loss: 0.4066 - val_accuracy: 0.8493 - lr: 0.0010\n",
            "Learning rate:  0.0010000000474974513\n",
            "Epoch 14/100\n",
            "131/131 [==============================] - 8s 60ms/step - loss: 0.4039 - accuracy: 0.8529 - val_loss: 0.4083 - val_accuracy: 0.8408 - lr: 0.0010\n",
            "Learning rate:  0.0010000000474974513\n",
            "Epoch 15/100\n",
            "131/131 [==============================] - 10s 74ms/step - loss: 0.4053 - accuracy: 0.8503 - val_loss: 0.4367 - val_accuracy: 0.8165 - lr: 0.0010\n",
            "Learning rate:  0.0010000000474974513\n",
            "Epoch 16/100\n",
            "131/131 [==============================] - 9s 65ms/step - loss: 0.3919 - accuracy: 0.8569 - val_loss: 0.4199 - val_accuracy: 0.8309 - lr: 0.0010\n",
            "Learning rate:  0.0010000000474974513\n",
            "Epoch 17/100\n",
            "131/131 [==============================] - 8s 61ms/step - loss: 0.3875 - accuracy: 0.8602 - val_loss: 0.3945 - val_accuracy: 0.8492 - lr: 0.0010\n",
            "Learning rate:  0.0010000000474974513\n",
            "Epoch 18/100\n",
            "131/131 [==============================] - 10s 76ms/step - loss: 0.3820 - accuracy: 0.8621 - val_loss: 0.3914 - val_accuracy: 0.8505 - lr: 0.0010\n",
            "Learning rate:  0.0010000000474974513\n",
            "Epoch 19/100\n",
            "131/131 [==============================] - 9s 65ms/step - loss: 0.3748 - accuracy: 0.8628 - val_loss: 0.4060 - val_accuracy: 0.8374 - lr: 0.0010\n",
            "Learning rate:  0.0010000000474974513\n",
            "Epoch 20/100\n",
            "131/131 [==============================] - 9s 69ms/step - loss: 0.3719 - accuracy: 0.8664 - val_loss: 0.4071 - val_accuracy: 0.8355 - lr: 0.0010\n",
            "Learning rate:  0.0010000000474974513\n",
            "Epoch 21/100\n",
            "131/131 [==============================] - 9s 69ms/step - loss: 0.3744 - accuracy: 0.8664 - val_loss: 0.3822 - val_accuracy: 0.8592 - lr: 0.0010\n",
            "Learning rate:  0.0010000000474974513\n",
            "Epoch 22/100\n",
            "131/131 [==============================] - 8s 64ms/step - loss: 0.3641 - accuracy: 0.8692 - val_loss: 0.3764 - val_accuracy: 0.8561 - lr: 0.0010\n",
            "Learning rate:  0.0010000000474974513\n",
            "Epoch 23/100\n",
            "131/131 [==============================] - 8s 62ms/step - loss: 0.3653 - accuracy: 0.8688 - val_loss: 0.3838 - val_accuracy: 0.8515 - lr: 0.0010\n",
            "Learning rate:  0.0010000000474974513\n",
            "Epoch 24/100\n",
            "131/131 [==============================] - 10s 78ms/step - loss: 0.3631 - accuracy: 0.8702 - val_loss: 0.3872 - val_accuracy: 0.8499 - lr: 0.0010\n",
            "Learning rate:  0.0010000000474974513\n",
            "Epoch 25/100\n",
            "131/131 [==============================] - 9s 69ms/step - loss: 0.3606 - accuracy: 0.8717 - val_loss: 0.3902 - val_accuracy: 0.8442 - lr: 0.0010\n",
            "Learning rate:  0.0010000000474974513\n",
            "Epoch 26/100\n",
            "131/131 [==============================] - 9s 70ms/step - loss: 0.3567 - accuracy: 0.8707 - val_loss: 0.3860 - val_accuracy: 0.8476 - lr: 0.0010\n",
            "Learning rate:  0.0010000000474974513\n",
            "Epoch 27/100\n",
            "131/131 [==============================] - 10s 73ms/step - loss: 0.3548 - accuracy: 0.8756 - val_loss: 0.3825 - val_accuracy: 0.8501 - lr: 0.0010\n",
            "Learning rate:  0.0010000000474974513\n",
            "Epoch 28/100\n",
            "131/131 [==============================] - 9s 73ms/step - loss: 0.3562 - accuracy: 0.8728 - val_loss: 0.3700 - val_accuracy: 0.8587 - lr: 0.0010\n",
            "Learning rate:  0.0010000000474974513\n",
            "Epoch 29/100\n",
            "131/131 [==============================] - 9s 68ms/step - loss: 0.3498 - accuracy: 0.8758 - val_loss: 0.3719 - val_accuracy: 0.8578 - lr: 0.0010\n",
            "Learning rate:  0.0010000000474974513\n",
            "Epoch 30/100\n",
            "131/131 [==============================] - 10s 79ms/step - loss: 0.3436 - accuracy: 0.8782 - val_loss: 0.3677 - val_accuracy: 0.8608 - lr: 0.0010\n",
            "Learning rate:  0.0010000000474974513\n",
            "Epoch 31/100\n",
            "131/131 [==============================] - 9s 71ms/step - loss: 0.3425 - accuracy: 0.8813 - val_loss: 0.3775 - val_accuracy: 0.8500 - lr: 0.0010\n",
            "Learning rate:  0.0010000000474974513\n",
            "Epoch 32/100\n",
            "131/131 [==============================] - 9s 67ms/step - loss: 0.3439 - accuracy: 0.8792 - val_loss: 0.3847 - val_accuracy: 0.8440 - lr: 0.0010\n",
            "Learning rate:  0.0010000000474974513\n",
            "Epoch 33/100\n",
            "131/131 [==============================] - 9s 66ms/step - loss: 0.3394 - accuracy: 0.8787 - val_loss: 0.3612 - val_accuracy: 0.8627 - lr: 0.0010\n",
            "Learning rate:  0.0010000000474974513\n",
            "Epoch 34/100\n",
            "131/131 [==============================] - 10s 78ms/step - loss: 0.3365 - accuracy: 0.8811 - val_loss: 0.3684 - val_accuracy: 0.8590 - lr: 0.0010\n",
            "Learning rate:  0.0010000000474974513\n",
            "Epoch 35/100\n",
            "131/131 [==============================] - 9s 67ms/step - loss: 0.3358 - accuracy: 0.8813 - val_loss: 0.3583 - val_accuracy: 0.8627 - lr: 0.0010\n",
            "Learning rate:  0.0010000000474974513\n",
            "Epoch 36/100\n",
            "131/131 [==============================] - 8s 62ms/step - loss: 0.3382 - accuracy: 0.8814 - val_loss: 0.3641 - val_accuracy: 0.8588 - lr: 0.0010\n",
            "Learning rate:  0.0010000000474974513\n",
            "Epoch 37/100\n",
            "131/131 [==============================] - 10s 77ms/step - loss: 0.3290 - accuracy: 0.8841 - val_loss: 0.3827 - val_accuracy: 0.8518 - lr: 0.0010\n",
            "Learning rate:  0.0010000000474974513\n",
            "Epoch 38/100\n",
            "131/131 [==============================] - 8s 65ms/step - loss: 0.3259 - accuracy: 0.8847 - val_loss: 0.3464 - val_accuracy: 0.8704 - lr: 0.0010\n",
            "Learning rate:  0.0010000000474974513\n",
            "Epoch 39/100\n",
            "131/131 [==============================] - 8s 61ms/step - loss: 0.3269 - accuracy: 0.8861 - val_loss: 0.3463 - val_accuracy: 0.8704 - lr: 0.0010\n",
            "Learning rate:  0.0010000000474974513\n",
            "Epoch 40/100\n",
            "131/131 [==============================] - 9s 70ms/step - loss: 0.3241 - accuracy: 0.8875 - val_loss: 0.3640 - val_accuracy: 0.8590 - lr: 0.0010\n",
            "Learning rate:  0.0010000000474974513\n",
            "Epoch 41/100\n",
            "131/131 [==============================] - 8s 60ms/step - loss: 0.3260 - accuracy: 0.8844 - val_loss: 0.3647 - val_accuracy: 0.8584 - lr: 0.0010\n",
            "Learning rate:  0.0010000000474974513\n",
            "Epoch 42/100\n",
            "131/131 [==============================] - 9s 66ms/step - loss: 0.3259 - accuracy: 0.8830 - val_loss: 0.3697 - val_accuracy: 0.8621 - lr: 0.0010\n",
            "Learning rate:  0.0010000000474974513\n",
            "Epoch 43/100\n",
            "131/131 [==============================] - 9s 70ms/step - loss: 0.3227 - accuracy: 0.8862 - val_loss: 0.3573 - val_accuracy: 0.8644 - lr: 0.0010\n",
            "Learning rate:  0.0010000000474974513\n",
            "Epoch 44/100\n",
            "131/131 [==============================] - 9s 67ms/step - loss: 0.3210 - accuracy: 0.8852 - val_loss: 0.3678 - val_accuracy: 0.8596 - lr: 0.0010\n",
            "Learning rate:  0.0010000000474974513\n",
            "Epoch 45/100\n",
            "131/131 [==============================] - 10s 73ms/step - loss: 0.3150 - accuracy: 0.8875 - val_loss: 0.3550 - val_accuracy: 0.8633 - lr: 0.0010\n",
            "Learning rate:  0.0010000000474974513\n",
            "Epoch 46/100\n",
            "131/131 [==============================] - 10s 76ms/step - loss: 0.3204 - accuracy: 0.8881 - val_loss: 0.3562 - val_accuracy: 0.8619 - lr: 0.0010\n",
            "Learning rate:  0.0010000000474974513\n",
            "Epoch 47/100\n",
            "131/131 [==============================] - 11s 87ms/step - loss: 0.3192 - accuracy: 0.8896 - val_loss: 0.3596 - val_accuracy: 0.8647 - lr: 0.0010\n",
            "Learning rate:  0.0010000000474974513\n",
            "Epoch 48/100\n",
            "131/131 [==============================] - 8s 58ms/step - loss: 0.3117 - accuracy: 0.8904 - val_loss: 0.3447 - val_accuracy: 0.8701 - lr: 0.0010\n",
            "Learning rate:  0.0010000000474974513\n",
            "Epoch 49/100\n",
            "131/131 [==============================] - 10s 75ms/step - loss: 0.3173 - accuracy: 0.8885 - val_loss: 0.3649 - val_accuracy: 0.8590 - lr: 0.0010\n",
            "Learning rate:  0.0010000000474974513\n",
            "Epoch 50/100\n",
            "131/131 [==============================] - 10s 75ms/step - loss: 0.3212 - accuracy: 0.8853 - val_loss: 0.3447 - val_accuracy: 0.8681 - lr: 0.0010\n",
            "Learning rate:  0.0010000000474974513\n",
            "Epoch 51/100\n",
            "131/131 [==============================] - 9s 66ms/step - loss: 0.3109 - accuracy: 0.8913 - val_loss: 0.3536 - val_accuracy: 0.8649 - lr: 0.0010\n",
            "Learning rate:  0.0010000000474974513\n",
            "Epoch 52/100\n",
            "131/131 [==============================] - 8s 60ms/step - loss: 0.3117 - accuracy: 0.8892 - val_loss: 0.3414 - val_accuracy: 0.8696 - lr: 0.0010\n",
            "Learning rate:  0.0010000000474974513\n",
            "Epoch 53/100\n",
            "131/131 [==============================] - 10s 76ms/step - loss: 0.3097 - accuracy: 0.8941 - val_loss: 0.3631 - val_accuracy: 0.8583 - lr: 0.0010\n",
            "Learning rate:  0.0010000000474974513\n",
            "Epoch 54/100\n",
            "131/131 [==============================] - 8s 65ms/step - loss: 0.3074 - accuracy: 0.8893 - val_loss: 0.3767 - val_accuracy: 0.8499 - lr: 0.0010\n",
            "Learning rate:  0.0010000000474974513\n",
            "Epoch 55/100\n",
            "131/131 [==============================] - 8s 61ms/step - loss: 0.3056 - accuracy: 0.8948 - val_loss: 0.3496 - val_accuracy: 0.8667 - lr: 0.0010\n",
            "Learning rate:  0.0010000000474974513\n",
            "Epoch 56/100\n",
            "131/131 [==============================] - 9s 67ms/step - loss: 0.3118 - accuracy: 0.8929 - val_loss: 0.3510 - val_accuracy: 0.8643 - lr: 0.0010\n",
            "Learning rate:  0.0010000000474974513\n",
            "Epoch 57/100\n",
            "131/131 [==============================] - 7s 57ms/step - loss: 0.3070 - accuracy: 0.8914 - val_loss: 0.3449 - val_accuracy: 0.8689 - lr: 0.0010\n",
            "Learning rate:  0.0010000000474974513\n",
            "Epoch 58/100\n",
            "131/131 [==============================] - 9s 67ms/step - loss: 0.3007 - accuracy: 0.8930 - val_loss: 0.3458 - val_accuracy: 0.8677 - lr: 0.0010\n",
            "Learning rate:  0.0010000000474974513\n",
            "Epoch 59/100\n",
            "131/131 [==============================] - 9s 66ms/step - loss: 0.3014 - accuracy: 0.8924 - val_loss: 0.3410 - val_accuracy: 0.8697 - lr: 0.0010\n",
            "Learning rate:  0.0010000000474974513\n",
            "Epoch 60/100\n",
            "131/131 [==============================] - 8s 64ms/step - loss: 0.2992 - accuracy: 0.8948 - val_loss: 0.3526 - val_accuracy: 0.8632 - lr: 0.0010\n",
            "Learning rate:  0.0010000000474974513\n",
            "Epoch 61/100\n",
            "131/131 [==============================] - 9s 68ms/step - loss: 0.3050 - accuracy: 0.8916 - val_loss: 0.3384 - val_accuracy: 0.8708 - lr: 0.0010\n",
            "Learning rate:  0.0010000000474974513\n",
            "Epoch 62/100\n",
            "131/131 [==============================] - 9s 67ms/step - loss: 0.2996 - accuracy: 0.8937 - val_loss: 0.3403 - val_accuracy: 0.8695 - lr: 0.0010\n",
            "Learning rate:  0.0010000000474974513\n",
            "Epoch 63/100\n",
            "131/131 [==============================] - 7s 57ms/step - loss: 0.2947 - accuracy: 0.8943 - val_loss: 0.3306 - val_accuracy: 0.8767 - lr: 0.0010\n",
            "Learning rate:  0.0010000000474974513\n",
            "Epoch 64/100\n",
            "131/131 [==============================] - 10s 75ms/step - loss: 0.2940 - accuracy: 0.8980 - val_loss: 0.3314 - val_accuracy: 0.8754 - lr: 0.0010\n",
            "Learning rate:  0.0010000000474974513\n",
            "Epoch 65/100\n",
            "131/131 [==============================] - 9s 65ms/step - loss: 0.2935 - accuracy: 0.8959 - val_loss: 0.3467 - val_accuracy: 0.8671 - lr: 0.0010\n",
            "Learning rate:  0.0010000000474974513\n",
            "Epoch 66/100\n",
            "131/131 [==============================] - 8s 57ms/step - loss: 0.2986 - accuracy: 0.8908 - val_loss: 0.3306 - val_accuracy: 0.8747 - lr: 0.0010\n",
            "Learning rate:  0.0010000000474974513\n",
            "Epoch 67/100\n",
            "131/131 [==============================] - 9s 68ms/step - loss: 0.2946 - accuracy: 0.8956 - val_loss: 0.3451 - val_accuracy: 0.8681 - lr: 0.0010\n",
            "Learning rate:  0.0010000000474974513\n",
            "Epoch 68/100\n",
            "131/131 [==============================] - 9s 66ms/step - loss: 0.2910 - accuracy: 0.8963 - val_loss: 0.3556 - val_accuracy: 0.8602 - lr: 0.0010\n",
            "Learning rate:  0.0010000000474974513\n",
            "Epoch 69/100\n",
            "131/131 [==============================] - 9s 69ms/step - loss: 0.2847 - accuracy: 0.8990 - val_loss: 0.3299 - val_accuracy: 0.8743 - lr: 0.0010\n",
            "Learning rate:  0.0010000000474974513\n",
            "Epoch 70/100\n",
            "131/131 [==============================] - 10s 75ms/step - loss: 0.2895 - accuracy: 0.8967 - val_loss: 0.3316 - val_accuracy: 0.8727 - lr: 0.0010\n",
            "Learning rate:  0.0010000000474974513\n",
            "Epoch 71/100\n",
            "131/131 [==============================] - 9s 65ms/step - loss: 0.2918 - accuracy: 0.8956 - val_loss: 0.3407 - val_accuracy: 0.8698 - lr: 0.0010\n",
            "Learning rate:  0.00010000000474974513\n",
            "Epoch 72/100\n",
            "131/131 [==============================] - 9s 67ms/step - loss: 0.2745 - accuracy: 0.9042 - val_loss: 0.3334 - val_accuracy: 0.8727 - lr: 1.0000e-04\n",
            "Learning rate:  0.00010000000474974513\n",
            "Epoch 73/100\n",
            "131/131 [==============================] - 9s 68ms/step - loss: 0.2704 - accuracy: 0.9054 - val_loss: 0.3380 - val_accuracy: 0.8702 - lr: 1.0000e-04\n",
            "Learning rate:  0.00010000000474974513\n",
            "Epoch 74/100\n",
            "131/131 [==============================] - 8s 63ms/step - loss: 0.2715 - accuracy: 0.9057 - val_loss: 0.3353 - val_accuracy: 0.8716 - lr: 1.0000e-04\n",
            "Learning rate:  0.00010000000474974513\n",
            "Epoch 75/100\n",
            "131/131 [==============================] - 8s 60ms/step - loss: 0.2711 - accuracy: 0.9079 - val_loss: 0.3340 - val_accuracy: 0.8716 - lr: 1.0000e-04\n",
            "Learning rate:  0.00010000000474974513\n",
            "Epoch 76/100\n",
            "131/131 [==============================] - 9s 68ms/step - loss: 0.2694 - accuracy: 0.9062 - val_loss: 0.3338 - val_accuracy: 0.8729 - lr: 1.0000e-04\n",
            "Learning rate:  0.00010000000474974513\n",
            "Epoch 77/100\n",
            "131/131 [==============================] - 8s 58ms/step - loss: 0.2677 - accuracy: 0.9060 - val_loss: 0.3351 - val_accuracy: 0.8719 - lr: 1.0000e-04\n",
            "Learning rate:  0.00010000000474974513\n",
            "Epoch 78/100\n",
            "131/131 [==============================] - 9s 68ms/step - loss: 0.2752 - accuracy: 0.9054 - val_loss: 0.3343 - val_accuracy: 0.8724 - lr: 1.0000e-04\n",
            "Learning rate:  0.00010000000474974513\n",
            "Epoch 79/100\n",
            "131/131 [==============================] - 9s 67ms/step - loss: 0.2683 - accuracy: 0.9080 - val_loss: 0.3320 - val_accuracy: 0.8734 - lr: 1.0000e-04\n",
            "Learning rate:  0.00010000000474974513\n",
            "Epoch 80/100\n",
            "131/131 [==============================] - 8s 58ms/step - loss: 0.2678 - accuracy: 0.9065 - val_loss: 0.3275 - val_accuracy: 0.8759 - lr: 1.0000e-04\n",
            "Learning rate:  0.00010000000474974513\n",
            "Epoch 81/100\n",
            "131/131 [==============================] - 10s 75ms/step - loss: 0.2690 - accuracy: 0.9053 - val_loss: 0.3292 - val_accuracy: 0.8755 - lr: 1.0000e-04\n",
            "Learning rate:  1.0000000474974514e-05\n",
            "Epoch 82/100\n",
            "131/131 [==============================] - 9s 67ms/step - loss: 0.2649 - accuracy: 0.9085 - val_loss: 0.3294 - val_accuracy: 0.8747 - lr: 1.0000e-05\n",
            "Learning rate:  1.0000000656873453e-05\n",
            "Epoch 83/100\n",
            "131/131 [==============================] - 8s 64ms/step - loss: 0.2674 - accuracy: 0.9065 - val_loss: 0.3306 - val_accuracy: 0.8739 - lr: 1.0000e-05\n",
            "Learning rate:  1.0000000656873453e-05\n",
            "Epoch 84/100\n",
            "131/131 [==============================] - 9s 67ms/step - loss: 0.2620 - accuracy: 0.9085 - val_loss: 0.3301 - val_accuracy: 0.8740 - lr: 1.0000e-05\n",
            "Learning rate:  1.0000000656873453e-05\n",
            "Epoch 85/100\n",
            "131/131 [==============================] - 9s 66ms/step - loss: 0.2650 - accuracy: 0.9097 - val_loss: 0.3302 - val_accuracy: 0.8741 - lr: 1.0000e-05\n",
            "Learning rate:  1.0000000656873453e-05\n",
            "Epoch 86/100\n",
            "131/131 [==============================] - 9s 66ms/step - loss: 0.2657 - accuracy: 0.9071 - val_loss: 0.3299 - val_accuracy: 0.8741 - lr: 1.0000e-05\n",
            "Learning rate:  1.0000000656873453e-05\n",
            "Epoch 87/100\n",
            "131/131 [==============================] - 9s 67ms/step - loss: 0.2684 - accuracy: 0.9074 - val_loss: 0.3306 - val_accuracy: 0.8745 - lr: 1.0000e-05\n",
            "Learning rate:  1.0000000656873453e-05\n",
            "Epoch 88/100\n",
            "131/131 [==============================] - 9s 66ms/step - loss: 0.2625 - accuracy: 0.9113 - val_loss: 0.3319 - val_accuracy: 0.8732 - lr: 1.0000e-05\n",
            "Learning rate:  1.0000000656873453e-05\n",
            "Epoch 89/100\n",
            "131/131 [==============================] - 8s 58ms/step - loss: 0.2637 - accuracy: 0.9094 - val_loss: 0.3293 - val_accuracy: 0.8744 - lr: 1.0000e-05\n",
            "Learning rate:  1.0000000656873453e-05\n",
            "Epoch 90/100\n",
            "131/131 [==============================] - 9s 70ms/step - loss: 0.2638 - accuracy: 0.9106 - val_loss: 0.3292 - val_accuracy: 0.8746 - lr: 1.0000e-05\n",
            "Learning rate:  1.0000000656873453e-05\n",
            "Epoch 91/100\n",
            "131/131 [==============================] - 8s 65ms/step - loss: 0.2681 - accuracy: 0.9071 - val_loss: 0.3285 - val_accuracy: 0.8753 - lr: 1.0000e-05\n",
            "Learning rate:  1.0000000656873453e-06\n",
            "Epoch 92/100\n",
            "131/131 [==============================] - 8s 61ms/step - loss: 0.2654 - accuracy: 0.9084 - val_loss: 0.3286 - val_accuracy: 0.8752 - lr: 1.0000e-06\n",
            "Learning rate:  1.0000001111620804e-06\n",
            "Epoch 93/100\n",
            "131/131 [==============================] - 9s 67ms/step - loss: 0.2657 - accuracy: 0.9086 - val_loss: 0.3289 - val_accuracy: 0.8751 - lr: 1.0000e-06\n",
            "Learning rate:  1.0000001111620804e-06\n",
            "Epoch 94/100\n",
            "131/131 [==============================] - 8s 58ms/step - loss: 0.2632 - accuracy: 0.9079 - val_loss: 0.3291 - val_accuracy: 0.8749 - lr: 1.0000e-06\n",
            "Learning rate:  1.0000001111620804e-06\n",
            "Epoch 95/100\n",
            "131/131 [==============================] - 9s 68ms/step - loss: 0.2693 - accuracy: 0.9072 - val_loss: 0.3293 - val_accuracy: 0.8749 - lr: 1.0000e-06\n",
            "Learning rate:  1.0000001111620804e-06\n",
            "Epoch 96/100\n",
            "131/131 [==============================] - 9s 72ms/step - loss: 0.2605 - accuracy: 0.9106 - val_loss: 0.3297 - val_accuracy: 0.8741 - lr: 1.0000e-06\n",
            "Learning rate:  1.0000001111620804e-06\n",
            "Epoch 97/100\n",
            "131/131 [==============================] - 8s 58ms/step - loss: 0.2670 - accuracy: 0.9060 - val_loss: 0.3296 - val_accuracy: 0.8743 - lr: 1.0000e-06\n",
            "Learning rate:  1.0000001111620804e-06\n",
            "Epoch 98/100\n",
            "131/131 [==============================] - 9s 69ms/step - loss: 0.2630 - accuracy: 0.9111 - val_loss: 0.3296 - val_accuracy: 0.8741 - lr: 1.0000e-06\n",
            "Learning rate:  1.0000001111620804e-06\n",
            "Epoch 99/100\n",
            "131/131 [==============================] - 9s 66ms/step - loss: 0.2628 - accuracy: 0.9114 - val_loss: 0.3296 - val_accuracy: 0.8742 - lr: 1.0000e-06\n",
            "Learning rate:  1.0000001111620804e-06\n",
            "Epoch 100/100\n",
            "131/131 [==============================] - 7s 57ms/step - loss: 0.2625 - accuracy: 0.9099 - val_loss: 0.3297 - val_accuracy: 0.8744 - lr: 1.0000e-06\n"
          ]
        }
      ],
      "source": [
        "from keras.utils import plot_model\n",
        "\n",
        "plot_model(model, \"model.png\") # Plot model\n",
        "\n",
        "#model = keras.multi_gpu_model(model, gpus=2) # Multi-gpu acceleration (optional)\n",
        "model.compile(optimizer=\"adam\", loss=\"categorical_crossentropy\", metrics=['accuracy'])\n",
        "\n",
        "lr_scheduler = LearningRateScheduler(lr_schedule) # Dynamic adjustment learning rate\n",
        "history = model.fit(x_train, y_train, batch_size=128, epochs=100, validation_data=(x_test, y_test),\n",
        "                        callbacks=[lr_scheduler])\n",
        "model.save(os.path.join(\"models\", \"model.final.h5\")) # Save training model"
      ]
    },
    {
      "cell_type": "markdown",
      "metadata": {
        "id": "Iq6gstH72x7r"
      },
      "source": [
        "Testing our model"
      ]
    },
    {
      "cell_type": "code",
      "execution_count": null,
      "metadata": {
        "id": "2c1u6EeZ16mH",
        "colab": {
          "base_uri": "https://localhost:8080/",
          "height": 996
        },
        "outputId": "962d3443-5c53-42f8-e0d8-921d9c1263fb"
      },
      "outputs": [
        {
          "output_type": "stream",
          "name": "stdout",
          "text": [
            "530/530 [==============================] - 3s 6ms/step - loss: 0.3297 - accuracy: 0.8744\n",
            "Test loss:  0.32965606451034546\n",
            "Accuracy:  0.8743582367897034\n",
            "530/530 [==============================] - 5s 9ms/step\n"
          ]
        },
        {
          "output_type": "display_data",
          "data": {
            "text/plain": [
              "<Figure size 640x480 with 1 Axes>"
            ],
            "image/png": "[encoded data removed]"
          },
          "metadata": {}
        },
        {
          "output_type": "display_data",
          "data": {
            "text/plain": [
              "<Figure size 640x480 with 1 Axes>"
            ],
            "image/png": "[encoded data removed]"
          },
          "metadata": {}
        }
      ],
      "source": [
        "    loss, accuracy = model.evaluate(x_test, y_test) # test the model\n",
        "    print(\"Test loss: \", loss)\n",
        "    print(\"Accuracy: \", accuracy)\n",
        "\n",
        "    # save prediction score\n",
        "    y_score = model.predict(x_test)\n",
        "    #output = pd.DataFrame({\"y_true\": y_test[:, 1], \"y_score\": y_score[:, 1], \"subject\": groups_test})\n",
        "    #output.to_csv(os.path.join(\"base_dir\", \"LeNet.csv\"), index=False)\n",
        "import matplotlib.pyplot as plt\n",
        "\n",
        "# summarize history for accuracy\n",
        "plt.plot(history.history['accuracy'])\n",
        "plt.plot(history.history['val_accuracy'])\n",
        "plt.title('model accuracy')\n",
        "plt.ylabel('accuracy')\n",
        "plt.xlabel('epoch')\n",
        "plt.legend(['Train', 'Validation'], loc='upper left')\n",
        "plt.show()\n",
        "# summarize history for loss\n",
        "plt.plot(history.history['loss'])\n",
        "plt.plot(history.history['val_loss'])\n",
        "plt.title('model loss')\n",
        "plt.ylabel('loss')\n",
        "plt.xlabel('epoch')\n",
        "plt.legend(['Train', 'Validation'], loc='upper left')\n",
        "plt.show()"
      ]
    },
    {
      "cell_type": "code",
      "source": [
        "loss, accuracy = model.evaluate(x_test, y_test)\n",
        "\n",
        "y_score = model.predict(x_test)\n",
        "\n",
        "y_predict= np.argmax(y_score, axis=-1)\n",
        "y_training = np.argmax(y_test, axis=-1)\n",
        "# Confusion matrix:\n",
        "from sklearn.metrics import confusion_matrix\n",
        "from sklearn.metrics import f1_score\n",
        "C = confusion_matrix(y_training, y_predict, labels=(1, 0))\n",
        "TP, TN, FP, FN = C[0, 0], C[1, 1], C[1, 0], C[0, 1]\n",
        "acc, sn, sp = 1. * (TP + TN) / (TP + TN + FP + FN), 1. * TP / (TP + FN), 1. * TN / (TN + FP)\n",
        "f2=f1_score(y_training, y_predict)\n"
      ],
      "metadata": {
        "colab": {
          "base_uri": "https://localhost:8080/"
        },
        "id": "NfBppNrLVD2I",
        "outputId": "500274b8-8e50-49e0-8c66-d5c2b8a4b1ab"
      },
      "execution_count": null,
      "outputs": [
        {
          "output_type": "stream",
          "name": "stdout",
          "text": [
            "530/530 [==============================] - 3s 5ms/step - loss: 0.3297 - accuracy: 0.8744\n",
            "530/530 [==============================] - 3s 5ms/step\n"
          ]
        }
      ]
    }
  ],
  "metadata": {
    "colab": {
      "provenance": []
    },
    "kernelspec": {
      "display_name": "Python 3",
      "name": "python3"
    },
    "language_info": {
      "name": "python"
    }
  },
  "nbformat": 4,
  "nbformat_minor": 0
}